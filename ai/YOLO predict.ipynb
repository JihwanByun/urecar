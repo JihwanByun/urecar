{
 "cells": [
  {
   "cell_type": "code",
   "execution_count": 4,
   "id": "62b96abb-455a-4a3d-821c-1fc4361443b3",
   "metadata": {},
   "outputs": [],
   "source": [
    "import os\n",
    "os.environ['CUDA_VISIBLE_DEVICES']='4'"
   ]
  },
  {
   "cell_type": "code",
   "execution_count": 5,
   "id": "e2610a53-7fc9-4316-8f44-d87f9e216414",
   "metadata": {},
   "outputs": [],
   "source": [
    "# 라이브러리 불러오기\n",
    "import os\n",
    "import json\n",
    "import shutil\n",
    "from PIL import Image\n",
    "import re\n",
    "import time\n",
    "import pickle\n",
    "import tempfile\n",
    "from ultralytics import YOLO"
   ]
  },
  {
   "cell_type": "markdown",
   "id": "45d9c6dc-2a1f-4952-b23e-cde6b9fa1bfd",
   "metadata": {},
   "source": [
    "## 예측 코드"
   ]
  },
  {
   "cell_type": "code",
   "execution_count": 21,
   "id": "527055f0-e4aa-4ecc-ad95-a99b3e4b336e",
   "metadata": {},
   "outputs": [
    {
     "name": "stdout",
     "output_type": "stream",
     "text": [
      "\n",
      "image 1/1 /home/j-j11a303/falsecar.jpg: 416x640 1 lane_blue, 33.3ms\n",
      "Speed: 2.1ms preprocess, 33.3ms inference, 3.9ms postprocess per image at shape (1, 3, 416, 640)\n",
      "Results saved to \u001b[1mruns/detect/predict40\u001b[0m\n"
     ]
    }
   ],
   "source": [
    "# 1. 학습된 best.pt 모델 로드\n",
    "model = YOLO('runs/detect/train36/weights/best.pt')\n",
    "\n",
    "# 2. 예측하고자 하는 이미지 파일 경로\n",
    "# image_path = '[BLUE]00309A_082918_012.jpg'\n",
    "image_path = 'falsecar.jpg'\n",
    "\n",
    "# 이미지 예측\n",
    "results = model.predict(source=image_path , save=True, imgsz=640)  # your_image.jpg 경로에 맞게 수정\n",
    "\n",
    "# 결과 확인\n",
    "for result in results:\n",
    "    result.plot()  # 예측 결과 이미지 출력"
   ]
  },
  {
   "cell_type": "code",
   "execution_count": 22,
   "id": "650e90b4-7be2-4b05-99cb-9fcbb4db04b2",
   "metadata": {},
   "outputs": [
    {
     "name": "stdout",
     "output_type": "stream",
     "text": [
      "[]\n"
     ]
    }
   ],
   "source": [
    "# 4. 차량과 차선 객체 분류\n",
    "vehicle_boxes = []\n",
    "lane_boxes = []\n",
    "\n",
    "for box in results[0].boxes:  # results[0]을 사용하여 첫 번째 결과에 접근\n",
    "    cls = int(box.cls)  # 클래스 인덱스 가져오기\n",
    "    class_name = results[0].names[cls]  # 클래스 이름 가져오기\n",
    "    \n",
    "    # 클래스 이름에 따라 차량과 차선을 구분\n",
    "    if class_name in ['vehicle_car', 'vehicle_bus', 'vehicle_truck', 'vehicle_bike']:\n",
    "        vehicle_boxes.append(box)\n",
    "    elif class_name in ['lane_white', 'lane_blue', 'lane_yellow', 'lane_shoulder']:\n",
    "        lane_boxes.append(box)\n",
    "\n",
    "# 5. 차량과 차선 간의 관계 분석\n",
    "def is_overlapping(box1, box2):\n",
    "    # 각 경계 상자의 좌표 (x1, y1, x2, y2)\n",
    "    x1_1, y1_1, x2_1, y2_1 = box1.xyxy[0].tolist()  # 차량 경계 상자 좌표\n",
    "    x1_2, y1_2, x2_2, y2_2 = box2.xyxy[0].tolist()  # 차선 경계 상자 좌표\n",
    "    \n",
    "    # 겹침 여부 확인 (두 상자가 겹치는 경우 True 반환)\n",
    "    return not (x2_1 < x1_2 or x2_2 < x1_1 or y2_1 < y1_2 or y2_2 < y1_1)\n",
    "\n",
    "\n",
    "print(vehicle_boxes)\n",
    "\n",
    "# 6. 불법 주차 여부 판단\n",
    "for vehicle_box in vehicle_boxes:\n",
    "    vehicle_coords = vehicle_box.xyxy  # 차량의 경계 상자 좌표\n",
    "    \n",
    "    for lane_box in lane_boxes:\n",
    "        lane_coords = lane_box.xyxy  # 차선의 경계 상자 좌표\n",
    "        \n",
    "        # 차량이 차선 위에 있는지 확인 (경계 상자 간의 겹침 여부 계산)\n",
    "        if is_overlapping(vehicle_box, lane_box):\n",
    "            lane_type = results[0].names[int(lane_box.cls)]  # 차선의 종류\n",
    "            print(f\"차량이 {lane_type} 차선 위에 있습니다.\")\n",
    "            \n",
    "            # 파란색 차선 위에 있으면 불법 주차로 판단\n",
    "            if lane_type in  ['lane_blue', 'lane_yellow', 'lane_shoulder']:\n",
    "                print(\"불법 주차입니다.\")\n",
    "            else:\n",
    "                print(\"정상 주차입니다.\")"
   ]
  },
  {
   "cell_type": "code",
   "execution_count": 23,
   "id": "911fdf13-0a81-424a-a8a1-5577b4a46ff3",
   "metadata": {},
   "outputs": [
    {
     "name": "stdout",
     "output_type": "stream",
     "text": [
      "[ultralytics.engine.results.Results object with attributes:\n",
      "\n",
      "boxes: ultralytics.engine.results.Boxes object\n",
      "keypoints: None\n",
      "masks: None\n",
      "names: {0: 'vehicle_car', 1: 'vehicle_bus', 2: 'vehicle_truck', 3: 'vehicle_bike', 4: 'lane_white', 5: 'lane_blue', 6: 'lane_yellow', 7: 'lane_shoulder'}\n",
      "obb: None\n",
      "orig_img: array([[[ 95, 130, 120],\n",
      "        [ 92, 127, 117],\n",
      "        [ 79, 116, 108],\n",
      "        ...,\n",
      "        [ 18,  27,  41],\n",
      "        [ 14,  21,  36],\n",
      "        [ 42,  45,  59]],\n",
      "\n",
      "       [[ 99, 133, 126],\n",
      "        [ 86, 123, 115],\n",
      "        [ 96, 133, 125],\n",
      "        ...,\n",
      "        [ 18,  27,  41],\n",
      "        [ 16,  23,  38],\n",
      "        [ 32,  35,  49]],\n",
      "\n",
      "       [[ 70, 106, 100],\n",
      "        [ 98, 134, 128],\n",
      "        [ 96, 132, 126],\n",
      "        ...,\n",
      "        [ 31,  40,  53],\n",
      "        [ 31,  39,  52],\n",
      "        [ 31,  34,  48]],\n",
      "\n",
      "       ...,\n",
      "\n",
      "       [[155, 148, 151],\n",
      "        [162, 154, 155],\n",
      "        [172, 159, 157],\n",
      "        ...,\n",
      "        [126, 147, 168],\n",
      "        [122, 143, 164],\n",
      "        [126, 147, 168]],\n",
      "\n",
      "       [[151, 150, 154],\n",
      "        [159, 154, 156],\n",
      "        [166, 158, 158],\n",
      "        ...,\n",
      "        [140, 161, 182],\n",
      "        [139, 160, 181],\n",
      "        [145, 166, 187]],\n",
      "\n",
      "       [[150, 151, 155],\n",
      "        [156, 155, 157],\n",
      "        [163, 157, 158],\n",
      "        ...,\n",
      "        [154, 175, 196],\n",
      "        [149, 170, 191],\n",
      "        [154, 175, 196]]], dtype=uint8)\n",
      "orig_shape: (180, 279)\n",
      "path: '/home/j-j11a303/falsecar.jpg'\n",
      "probs: None\n",
      "save_dir: 'runs/detect/predict40'\n",
      "speed: {'preprocess': 2.1364688873291016, 'inference': 33.29348564147949, 'postprocess': 3.897428512573242}]\n"
     ]
    }
   ],
   "source": [
    "print(results)"
   ]
  },
  {
   "cell_type": "code",
   "execution_count": null,
   "id": "becbe633-683d-49b3-b9fc-d9c7262d6ae6",
   "metadata": {},
   "outputs": [],
   "source": []
  }
 ],
 "metadata": {
  "kernelspec": {
   "display_name": "urecar",
   "language": "python",
   "name": "urecar"
  },
  "language_info": {
   "codemirror_mode": {
    "name": "ipython",
    "version": 3
   },
   "file_extension": ".py",
   "mimetype": "text/x-python",
   "name": "python",
   "nbconvert_exporter": "python",
   "pygments_lexer": "ipython3",
   "version": "3.10.12"
  }
 },
 "nbformat": 4,
 "nbformat_minor": 5
}
